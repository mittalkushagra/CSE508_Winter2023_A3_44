{
  "cells": [
    {
      "cell_type": "markdown",
      "metadata": {
        "id": "rZU4UYI9I8It"
      },
      "source": [
        "**Import libraries**"
      ]
    },
    {
      "cell_type": "code",
      "source": [
        "import networkx as nx"
      ],
      "metadata": {
        "id": "v4H-iceLoai8"
      },
      "execution_count": 10,
      "outputs": []
    },
    {
      "cell_type": "code",
      "source": [
        "def make_graph(path_of_file):   \n",
        "    return nx.read_edgelist(path_of_file, create_using = nx.DiGraph)"
      ],
      "metadata": {
        "id": "kldZ_PVQodbS"
      },
      "execution_count": 11,
      "outputs": []
    },
    {
      "cell_type": "code",
      "source": [
        "def get_pagerank(Graph, damping_parameter, max_iter):  \n",
        "    return nx.pagerank(Graph, alpha=damping_parameter, max_iter=max_iter)"
      ],
      "metadata": {
        "id": "E3oF9cwHog4w"
      },
      "execution_count": 12,
      "outputs": []
    },
    {
      "cell_type": "code",
      "source": [
        "def get_hubs_authority(Graph, max_iter, isNormalized):\n",
        "    hubs, authority = nx.hits(Graph, max_iter=max_iter, normalized=isNormalized)\n",
        "    return hubs, authority"
      ],
      "metadata": {
        "id": "mMjSziePoiuj"
      },
      "execution_count": 13,
      "outputs": []
    },
    {
      "cell_type": "code",
      "source": [
        "def get_sorted_dict(data, isReverse, topK):\n",
        "    if topK<0:\n",
        "        return dict()\n",
        "    elif topK>len(data):\n",
        "        return dict(sorted(data.items(), key = lambda x:x[1], reverse=isReverse))\n",
        "    return dict(sorted(data.items(), key = lambda x:x[1], reverse=isReverse)[:topK])"
      ],
      "metadata": {
        "id": "9Ti8FfADolpi"
      },
      "execution_count": 14,
      "outputs": []
    },
    {
      "cell_type": "code",
      "source": [
        "def print_dict(data):\n",
        "    for key,value in data.items():\n",
        "        print('{}  {}'.format(key, value))"
      ],
      "metadata": {
        "id": "DmSD2QYboniw"
      },
      "execution_count": 15,
      "outputs": []
    },
    {
      "cell_type": "code",
      "source": [
        "\n",
        "def main():\n",
        "    # Make Directed Graph by reading file\n",
        "    Graph = make_graph('/content/drive/MyDrive/IR A3 Data/Wiki-Vote.txt')\n",
        "    \n",
        "    # Compute PageRank score for each node in Graph\n",
        "    pagerank = get_pagerank(Graph, 0.85, 100)\n",
        "    \n",
        "    # Display top 10 nodes based on PageRank score\n",
        "    pagerank_reverse_sorted = get_sorted_dict(pagerank, True, 10)\n",
        "    print('\\nTop 10 nodes based on PageRank score')\n",
        "    print_dict(pagerank_reverse_sorted)\n",
        "    \n",
        "    # Compute Hubs and Authority score for each node in Graph\n",
        "    hubs, authority = get_hubs_authority(Graph, 100, True)\n",
        "    \n",
        "    # Display top 10 nodes based on Hubs score\n",
        "    hubs_reverse_sorted = get_sorted_dict(hubs, True, 10)\n",
        "    print('\\nTop 10 nodes based on Hubs score')\n",
        "    print_dict(hubs_reverse_sorted)\n",
        "    \n",
        "    # Display top 10 nodes based on Authority score\n",
        "    authority_reverse_sorted = get_sorted_dict(authority, True, 10)\n",
        "    print('\\nTop 10 nodes based on Authority score')\n",
        "    print_dict(authority_reverse_sorted)"
      ],
      "metadata": {
        "id": "XdPSh6cDooLQ"
      },
      "execution_count": 16,
      "outputs": []
    },
    {
      "cell_type": "code",
      "source": [
        "if __name__ == '__main__':\n",
        "    main()"
      ],
      "metadata": {
        "colab": {
          "base_uri": "https://localhost:8080/"
        },
        "id": "hSVpa36hosJ6",
        "outputId": "a600f2c6-841c-46f8-ddba-1a2a2525482e"
      },
      "execution_count": 17,
      "outputs": [
        {
          "output_type": "stream",
          "name": "stdout",
          "text": [
            "\n",
            "Top 10 nodes based on PageRank score\n",
            "4037  0.004612715891167545\n",
            "15  0.0036812207295292714\n",
            "6634  0.003524813657640258\n",
            "2625  0.0032863743692308997\n",
            "2398  0.002605333171725021\n",
            "2470  0.0025301053283849502\n",
            "2237  0.002504703800483991\n",
            "4191  0.0022662633042363433\n",
            "7553  0.0021701850491959583\n",
            "5254  0.0021500675059293226\n",
            "\n",
            "Top 10 nodes based on Hubs score\n",
            "2565  0.007940492708143135\n",
            "766  0.007574335297501241\n",
            "2688  0.006440248991029861\n",
            "457  0.006416870490261073\n",
            "1166  0.006010567902411203\n",
            "1549  0.005720754058269242\n",
            "11  0.004921182063808109\n",
            "1151  0.004572040701756409\n",
            "1374  0.0044678887927111065\n",
            "1133  0.00391888173205735\n",
            "\n",
            "Top 10 nodes based on Authority score\n",
            "2398  0.002580147178008876\n",
            "4037  0.0025732411242297953\n",
            "3352  0.002328415091497684\n",
            "1549  0.00230373148045718\n",
            "762  0.002255874856287142\n",
            "3089  0.002253406688451165\n",
            "1297  0.0022501446366627246\n",
            "2565  0.002223564103953611\n",
            "15  0.0022015434925655815\n",
            "2625  0.0021978968034030745\n"
          ]
        }
      ]
    },
    {
      "cell_type": "code",
      "source": [],
      "metadata": {
        "id": "f3iK5qOHpxUs"
      },
      "execution_count": 17,
      "outputs": []
    }
  ],
  "metadata": {
    "colab": {
      "provenance": []
    },
    "kernelspec": {
      "display_name": "Python 3",
      "language": "python",
      "name": "python3"
    },
    "language_info": {
      "codemirror_mode": {
        "name": "ipython",
        "version": 3
      },
      "file_extension": ".py",
      "mimetype": "text/x-python",
      "name": "python",
      "nbconvert_exporter": "python",
      "pygments_lexer": "ipython3",
      "version": "3.8.8"
    }
  },
  "nbformat": 4,
  "nbformat_minor": 0
}